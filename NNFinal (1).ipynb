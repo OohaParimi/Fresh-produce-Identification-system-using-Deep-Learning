{
  "nbformat": 4,
  "nbformat_minor": 0,
  "metadata": {
    "colab": {
      "name": "NNFinal.ipynb",
      "provenance": [],
      "collapsed_sections": []
    },
    "kernelspec": {
      "name": "python3",
      "display_name": "Python 3"
    },
    "language_info": {
      "name": "python"
    }
  },
  "cells": [
    {
      "cell_type": "code",
      "execution_count": null,
      "metadata": {
        "id": "2ME9XQRdLg4B"
      },
      "outputs": [],
      "source": [
        "!unzip \"/content/Top Indian Fruits Dataset_Clean Images.zip\" "
      ]
    },
    {
      "cell_type": "markdown",
      "source": [
        "CUSTOMIZING THE DATASET\n"
      ],
      "metadata": {
        "id": "261uTotvNqVT"
      }
    },
    {
      "cell_type": "code",
      "source": [
        "#!pip install split-folders\n",
        "#import splitfolders \n",
        "import tensorflow.keras\n",
        "from tensorflow.keras.preprocessing.image import ImageDataGenerator\n",
        "from tensorflow.keras.models import Sequential\n",
        "from tensorflow.keras.models import Model\n",
        "from tensorflow.keras.layers import Dense, Dropout, Activation, Flatten\n",
        "from tensorflow.keras.layers import Conv2D, MaxPooling2D\n",
        "from tensorflow.keras import backend as K\n",
        "from tensorflow.keras.layers import BatchNormalization\n",
        "import os\n",
        "import matplotlib.pyplot as plt\n",
        "from tensorflow.keras.utils import to_categorical\n",
        "import tensorflow as tf\n",
        "import pandas as pd\n",
        "import numpy as np\n",
        "import cv2\n",
        "import keras\n",
        "import keras.utils\n",
        "from keras import utils as np_utils\n",
        "import glob"
      ],
      "metadata": {
        "id": "1GsWRvpMLhl0"
      },
      "execution_count": null,
      "outputs": []
    },
    {
      "cell_type": "code",
      "source": [
        "# splitting data into train, val and test sets\n",
        "splitfolders.ratio(\"/content/Top Indian Fruits Dataset_Clean Images/FruitDataSet of 256x256 Size_12000 Images\", output= \"output/\", seed=1337, ratio=(.8, .1, .1), group_prefix=None) "
      ],
      "metadata": {
        "colab": {
          "base_uri": "https://localhost:8080/"
        },
        "id": "HhjPbSU1LhpS",
        "outputId": "fe6bc902-c164-4585-8753-0b9cc949a0fd"
      },
      "execution_count": null,
      "outputs": [
        {
          "output_type": "stream",
          "name": "stderr",
          "text": [
            "Copying files: 12000 files [00:02, 4269.26 files/s]\n"
          ]
        }
      ]
    },
    {
      "cell_type": "code",
      "source": [
        "train_data_dir = '/content/output/train'\n",
        "test_data_dir = '/content/output/test'\n",
        "val_data_dir = '/content/output/val'"
      ],
      "metadata": {
        "id": "qRITAD-RLhs9"
      },
      "execution_count": null,
      "outputs": []
    },
    {
      "cell_type": "markdown",
      "source": [
        "PREPROCESSING THE DATA\n"
      ],
      "metadata": {
        "id": "p8aqNVfUNv1K"
      }
    },
    {
      "cell_type": "code",
      "source": [
        "x_train=[]\n",
        "\n",
        "for folder in os.listdir(train_data_dir):\n",
        "\n",
        "    sub_path=train_data_dir+\"/\"+folder\n",
        "\n",
        "    for img in os.listdir(sub_path):\n",
        "\n",
        "        image_path=sub_path+\"/\"+img\n",
        "\n",
        "        img_arr=cv2.imread(image_path)\n",
        "\n",
        "        img_arr=cv2.resize(img_arr,(40,40))\n",
        "\n",
        "        x_train.append(img_arr)\n",
        "\n",
        "x_test=[]\n",
        "\n",
        "for folder in os.listdir(test_data_dir):\n",
        "\n",
        "    sub_path=test_data_dir+\"/\"+folder\n",
        "\n",
        "    for img in os.listdir(sub_path):\n",
        "\n",
        "        image_path=sub_path+\"/\"+img\n",
        "\n",
        "        img_arr=cv2.imread(image_path)\n",
        "\n",
        "        img_arr=cv2.resize(img_arr,(40,40))\n",
        "\n",
        "        x_test.append(img_arr)\n",
        "\n",
        "x_val=[]\n",
        "\n",
        "for folder in os.listdir(val_data_dir):\n",
        "\n",
        "    sub_path=val_data_dir+\"/\"+folder\n",
        "\n",
        "    for img in os.listdir(sub_path):\n",
        "\n",
        "        image_path=sub_path+\"/\"+img\n",
        "\n",
        "        img_arr=cv2.imread(image_path)\n",
        "\n",
        "        img_arr=cv2.resize(img_arr,(40,40))\n",
        "\n",
        "        x_val.append(img_arr)"
      ],
      "metadata": {
        "id": "O4aw1mmLLhwG"
      },
      "execution_count": null,
      "outputs": []
    },
    {
      "cell_type": "code",
      "source": [
        "train_x=np.array(x_train)\n",
        "test_x=np.array(x_test)\n",
        "val_x=np.array(x_val)"
      ],
      "metadata": {
        "id": "oyg00GyqLhzy"
      },
      "execution_count": null,
      "outputs": []
    },
    {
      "cell_type": "code",
      "source": [
        "train_x=train_x/255.0\n",
        "test_x=test_x/255.0\n",
        "val_x=val_x/255.0"
      ],
      "metadata": {
        "id": "Puo19MAENIHs"
      },
      "execution_count": null,
      "outputs": []
    },
    {
      "cell_type": "code",
      "source": [
        "train_datagen = ImageDataGenerator(rescale = 1./255)\n",
        "test_datagen = ImageDataGenerator(rescale = 1./255)\n",
        "val_datagen = ImageDataGenerator(rescale = 1./255)"
      ],
      "metadata": {
        "id": "hlzqOrIBNLjL"
      },
      "execution_count": null,
      "outputs": []
    },
    {
      "cell_type": "code",
      "source": [
        "training_set = train_datagen.flow_from_directory(train_data_dir,\n",
        "                                                 target_size = (40, 40),\n",
        "                                                 batch_size = 32,\n",
        "                                                 class_mode = 'sparse')\n",
        "test_set = test_datagen.flow_from_directory(test_data_dir,\n",
        "                                            target_size = (40, 40),\n",
        "                                            batch_size = 32,\n",
        "                                            class_mode = 'sparse')\n",
        "val_set = val_datagen.flow_from_directory(val_data_dir,\n",
        "                                            target_size = (40, 40),\n",
        "                                            batch_size = 32,\n",
        "                                            class_mode = 'sparse')"
      ],
      "metadata": {
        "colab": {
          "base_uri": "https://localhost:8080/"
        },
        "id": "dDCAKRJ9NQot",
        "outputId": "035691dd-f7c1-4efe-b67d-9a67f7942ded"
      },
      "execution_count": null,
      "outputs": [
        {
          "output_type": "stream",
          "name": "stdout",
          "text": [
            "Found 9600 images belonging to 12 classes.\n",
            "Found 1200 images belonging to 12 classes.\n",
            "Found 1200 images belonging to 12 classes.\n"
          ]
        }
      ]
    },
    {
      "cell_type": "code",
      "source": [
        "train_y=training_set.classes\n",
        "test_y=test_set.classes\n",
        "val_y=val_set.classes"
      ],
      "metadata": {
        "id": "98pRbcENNfFy"
      },
      "execution_count": null,
      "outputs": []
    },
    {
      "cell_type": "code",
      "source": [
        "training_set.class_indices"
      ],
      "metadata": {
        "colab": {
          "base_uri": "https://localhost:8080/"
        },
        "id": "w55LQkTONfTd",
        "outputId": "bf469af8-b1c3-4454-f784-9a5ed0242bf7"
      },
      "execution_count": null,
      "outputs": [
        {
          "output_type": "execute_result",
          "data": {
            "text/plain": [
              "{'Apple_Bad': 0,\n",
              " 'Apple_Good': 1,\n",
              " 'Banana_Bad': 2,\n",
              " 'Banana_Good': 3,\n",
              " 'Guava_Bad': 4,\n",
              " 'Guava_Good': 5,\n",
              " 'Lime_Bad': 6,\n",
              " 'Lime_Good': 7,\n",
              " 'Orange_Bad': 8,\n",
              " 'Orange_Good': 9,\n",
              " 'Pomegranate_Bad': 10,\n",
              " 'Pomegranate_Good': 11}"
            ]
          },
          "metadata": {},
          "execution_count": 97
        }
      ]
    },
    {
      "cell_type": "code",
      "source": [
        "class_indices = training_set.class_indices\n",
        "print(class_indices)"
      ],
      "metadata": {
        "colab": {
          "base_uri": "https://localhost:8080/"
        },
        "id": "kkMhyadoScf5",
        "outputId": "18c09209-3972-427b-dad7-2cc381271b18"
      },
      "execution_count": null,
      "outputs": [
        {
          "output_type": "stream",
          "name": "stdout",
          "text": [
            "{'Apple_Bad': 0, 'Apple_Good': 1, 'Banana_Bad': 2, 'Banana_Good': 3, 'Guava_Bad': 4, 'Guava_Good': 5, 'Lime_Bad': 6, 'Lime_Good': 7, 'Orange_Bad': 8, 'Orange_Good': 9, 'Pomegranate_Bad': 10, 'Pomegranate_Good': 11}\n"
          ]
        }
      ]
    },
    {
      "cell_type": "markdown",
      "source": [
        "DATA VISUALIZATION\n"
      ],
      "metadata": {
        "id": "jxuuW49tN2Wy"
      }
    },
    {
      "cell_type": "code",
      "source": [
        "X_flat_train = train_x.reshape(train_x.shape[0], 40*40*3)\n",
        "X_flat_test = test_x.reshape(test_x.shape[0], 40*40*3)\n",
        "train_y = to_categorical(train_y, 14)\n",
        "test_y = to_categorical(test_y, 14)\n",
        "print('Original Sizes:', train_x.shape, test_x.shape, train_y.shape, test_y.shape)\n",
        "print('Flattened:', X_flat_train.shape, X_flat_test.shape)"
      ],
      "metadata": {
        "colab": {
          "base_uri": "https://localhost:8080/"
        },
        "id": "L985hfgRPEqc",
        "outputId": "3279debe-2c47-4aba-cba0-aba8693f7596"
      },
      "execution_count": null,
      "outputs": [
        {
          "output_type": "stream",
          "name": "stdout",
          "text": [
            "Original Sizes: (9600, 40, 40, 3) (1200, 40, 40, 3) (9600, 14) (1200, 14)\n",
            "Flattened: (9600, 4800) (1200, 4800)\n"
          ]
        }
      ]
    },
    {
      "cell_type": "code",
      "source": [
        "train_y.shape,test_y.shape,val_x.shape"
      ],
      "metadata": {
        "colab": {
          "base_uri": "https://localhost:8080/"
        },
        "id": "MUZRyH_9PEub",
        "outputId": "1660892d-8514-4994-e339-15721e3d6a1c"
      },
      "execution_count": null,
      "outputs": [
        {
          "output_type": "execute_result",
          "data": {
            "text/plain": [
              "((9600, 14), (1200, 14), (1200, 40, 40, 3))"
            ]
          },
          "metadata": {},
          "execution_count": 100
        }
      ]
    },
    {
      "cell_type": "code",
      "source": [
        "print(train_x[0].shape)\n",
        "plt.imshow(train_x[0])\n",
        "plt.show()"
      ],
      "metadata": {
        "colab": {
          "base_uri": "https://localhost:8080/",
          "height": 284
        },
        "id": "YMEEYSF-XCgh",
        "outputId": "95244c06-e3ef-4a44-b41f-457b0bf8607a"
      },
      "execution_count": null,
      "outputs": [
        {
          "output_type": "stream",
          "name": "stdout",
          "text": [
            "(40, 40, 3)\n"
          ]
        },
        {
          "output_type": "display_data",
          "data": {
            "image/png": "[encoded data removed]",
            "text/plain": [
              "<Figure size 432x288 with 1 Axes>"
            ]
          },
          "metadata": {
            "needs_background": "light"
          }
        }
      ]
    },
    {
      "cell_type": "markdown",
      "source": [
        "IMAGE AUGUMENTATION\n"
      ],
      "metadata": {
        "id": "3G6H0-0WYb7x"
      }
    },
    {
      "cell_type": "code",
      "source": [
        "\n",
        "# example of vertical shift image augmentation\n",
        "from numpy import expand_dims\n",
        "from keras.preprocessing.image import load_img\n",
        "from keras.preprocessing.image import img_to_array\n",
        "from keras.preprocessing.image import ImageDataGenerator\n",
        "from matplotlib import pyplot\n",
        "# load the image\n",
        "img = load_img('/content/output/train/Banana_Bad/IMG_20190910_175138.jpg')\n",
        "# convert to numpy array\n",
        "data = img_to_array(img)\n",
        "# expand dimension to one sample\n",
        "samples = expand_dims(data, 0)\n",
        "# create image data augmentation generator\n",
        "datagen = ImageDataGenerator(height_shift_range=0.5)\n",
        "# prepare iterator\n",
        "it = datagen.flow(samples, batch_size=1)\n",
        "# generate samples and plot\n",
        "for i in range(9):\n",
        "\t# define subplot\n",
        "\tpyplot.subplot(330 + 1 + i)\n",
        "\t# generate batch of images\n",
        "\tbatch = it.next()\n",
        "\t# convert to unsigned integers for viewing\n",
        "\timage = batch[0].astype('uint8')\n",
        "\t# plot raw pixel data\n",
        "\tpyplot.imshow(image)\n",
        "# show the figure\n",
        "pyplot.show()"
      ],
      "metadata": {
        "colab": {
          "base_uri": "https://localhost:8080/",
          "height": 269
        },
        "id": "Zp_eJujMXTCm",
        "outputId": "3a7af5fa-1a26-423a-d52d-b0dca1df901f"
      },
      "execution_count": null,
      "outputs": [
        {
          "output_type": "display_data",
          "data": {
            "image/png": "[encoded data removed]",
            "text/plain": [
              "<Figure size 432x288 with 9 Axes>"
            ]
          },
          "metadata": {
            "needs_background": "light"
          }
        }
      ]
    },
    {
      "cell_type": "code",
      "source": [
        "model = Sequential()\n",
        "\n",
        "model.add(Conv2D(32, kernel_size=5,input_shape=(40, 40, 3), activation = 'relu'))\n",
        "model.add(Conv2D(32, kernel_size=5, activation = 'relu'))\n",
        "model.add(MaxPooling2D(2,2))\n",
        "model.add(BatchNormalization())\n",
        "model.add(Dropout(0.4))\n",
        "\n",
        "model.add(Conv2D(64, kernel_size=3,activation = 'relu'))\n",
        "model.add(Conv2D(64, kernel_size=3,activation = 'relu'))\n",
        "model.add(MaxPooling2D(2,2))\n",
        "model.add(BatchNormalization())\n",
        "model.add(Dropout(0.4))\n",
        "\n",
        "model.add(Conv2D(128, kernel_size=3, activation = 'relu'))\n",
        "model.add(BatchNormalization())\n",
        "\n",
        "model.add(Flatten())\n",
        "model.add(Dense(256, activation = \"relu\"))\n",
        "model.add(Dropout(0.4))\n",
        "model.add(Dense(128, activation = \"relu\"))\n",
        "model.add(Dropout(0.4))\n",
        "model.add(Dense(14, activation = \"softmax\"))\n",
        "model.compile(loss=keras.losses.categorical_crossentropy,\n",
        "              optimizer=tensorflow.keras.optimizers.RMSprop(),\n",
        "              metrics=['accuracy'])\n",
        "\n",
        "\n"
      ],
      "metadata": {
        "id": "yCGJavu4aQgE"
      },
      "execution_count": null,
      "outputs": []
    },
    {
      "cell_type": "code",
      "source": [
        ""
      ],
      "metadata": {
        "id": "E0Hpgt9gn4iq"
      },
      "execution_count": null,
      "outputs": []
    },
    {
      "cell_type": "code",
      "source": [
        "history = model.fit(train_x, train_y,\n",
        "          batch_size=64,\n",
        "          epochs=20,\n",
        "          verbose=1,\n",
        "          validation_data=(test_x, test_y))\n",
        "score = model.evaluate(test_x, test_y, verbose=0)"
      ],
      "metadata": {
        "colab": {
          "base_uri": "https://localhost:8080/"
        },
        "id": "S2x1cxBzaQqL",
        "outputId": "c2798c72-3696-45bf-924a-ad9e5285a605"
      },
      "execution_count": null,
      "outputs": [
        {
          "output_type": "stream",
          "name": "stdout",
          "text": [
            "Epoch 1/20\n",
            "150/150 [==============================] - 81s 540ms/step - loss: 0.2532 - accuracy: 0.9293 - val_loss: 0.3962 - val_accuracy: 0.9025\n",
            "Epoch 2/20\n",
            "150/150 [==============================] - 81s 539ms/step - loss: 0.2384 - accuracy: 0.9341 - val_loss: 0.6732 - val_accuracy: 0.8542\n",
            "Epoch 3/20\n",
            "150/150 [==============================] - 81s 539ms/step - loss: 0.2129 - accuracy: 0.9380 - val_loss: 0.1188 - val_accuracy: 0.9650\n",
            "Epoch 4/20\n",
            "150/150 [==============================] - 82s 544ms/step - loss: 0.1847 - accuracy: 0.9509 - val_loss: 0.5677 - val_accuracy: 0.8550\n",
            "Epoch 5/20\n",
            "150/150 [==============================] - 81s 543ms/step - loss: 0.1816 - accuracy: 0.9495 - val_loss: 0.1450 - val_accuracy: 0.9575\n",
            "Epoch 6/20\n",
            "150/150 [==============================] - 81s 542ms/step - loss: 0.1702 - accuracy: 0.9564 - val_loss: 0.2265 - val_accuracy: 0.9417\n",
            "Epoch 7/20\n",
            "150/150 [==============================] - 81s 539ms/step - loss: 0.1585 - accuracy: 0.9573 - val_loss: 0.5224 - val_accuracy: 0.8975\n",
            "Epoch 8/20\n",
            "150/150 [==============================] - 81s 541ms/step - loss: 0.1310 - accuracy: 0.9636 - val_loss: 3.4235 - val_accuracy: 0.6650\n",
            "Epoch 9/20\n",
            "150/150 [==============================] - 81s 540ms/step - loss: 0.1514 - accuracy: 0.9610 - val_loss: 0.2195 - val_accuracy: 0.9433\n",
            "Epoch 10/20\n",
            "150/150 [==============================] - 81s 540ms/step - loss: 0.1550 - accuracy: 0.9628 - val_loss: 2.8844 - val_accuracy: 0.7608\n",
            "Epoch 11/20\n",
            "150/150 [==============================] - 81s 542ms/step - loss: 0.1444 - accuracy: 0.9676 - val_loss: 0.5755 - val_accuracy: 0.8900\n",
            "Epoch 12/20\n",
            "150/150 [==============================] - 81s 539ms/step - loss: 0.1329 - accuracy: 0.9658 - val_loss: 6.5003 - val_accuracy: 0.6425\n",
            "Epoch 13/20\n",
            "150/150 [==============================] - 81s 539ms/step - loss: 0.1505 - accuracy: 0.9644 - val_loss: 0.2101 - val_accuracy: 0.9508\n",
            "Epoch 14/20\n",
            "150/150 [==============================] - 81s 537ms/step - loss: 0.1262 - accuracy: 0.9693 - val_loss: 0.8189 - val_accuracy: 0.8533\n",
            "Epoch 15/20\n",
            "150/150 [==============================] - 81s 538ms/step - loss: 0.1201 - accuracy: 0.9700 - val_loss: 12.4618 - val_accuracy: 0.5908\n",
            "Epoch 16/20\n",
            "150/150 [==============================] - 81s 538ms/step - loss: 0.1326 - accuracy: 0.9702 - val_loss: 8.4118 - val_accuracy: 0.5992\n",
            "Epoch 17/20\n",
            "150/150 [==============================] - 81s 540ms/step - loss: 0.1220 - accuracy: 0.9726 - val_loss: 2.2310 - val_accuracy: 0.8217\n",
            "Epoch 18/20\n",
            "150/150 [==============================] - 81s 539ms/step - loss: 0.1068 - accuracy: 0.9746 - val_loss: 7.3412 - val_accuracy: 0.6458\n",
            "Epoch 19/20\n",
            "150/150 [==============================] - 81s 537ms/step - loss: 0.1090 - accuracy: 0.9748 - val_loss: 2.2592 - val_accuracy: 0.8200\n",
            "Epoch 20/20\n",
            "150/150 [==============================] - 80s 535ms/step - loss: 0.1206 - accuracy: 0.9710 - val_loss: 0.1149 - val_accuracy: 0.9683\n"
          ]
        }
      ]
    },
    {
      "cell_type": "code",
      "source": [
        "# accuracies\n",
        "\n",
        "plt.plot(history.history['accuracy'], label='train acc')\n",
        "\n",
        "plt.plot(history.history['val_accuracy'], label='val acc')\n",
        "\n",
        "plt.legend()\n",
        "\n",
        "\n",
        "plt.show()"
      ],
      "metadata": {
        "colab": {
          "base_uri": "https://localhost:8080/",
          "height": 265
        },
        "id": "JRn3-JxcaQvu",
        "outputId": "23c25907-1839-4552-c609-8fb70c01fbbd"
      },
      "execution_count": null,
      "outputs": [
        {
          "output_type": "display_data",
          "data": {
            "image/png": "[encoded data removed]",
            "text/plain": [
              "<Figure size 432x288 with 1 Axes>"
            ]
          },
          "metadata": {
            "needs_background": "light"
          }
        }
      ]
    },
    {
      "cell_type": "code",
      "source": [
        "# loss\n",
        "plt.plot(history.history['loss'], label='train loss')\n",
        "plt.plot(history.history['val_loss'], label='val loss')\n",
        "plt.legend()\n",
        "plt.show()"
      ],
      "metadata": {
        "colab": {
          "base_uri": "https://localhost:8080/",
          "height": 265
        },
        "id": "6zvdDVXoaQzi",
        "outputId": "9639e59e-9804-4f0b-85d8-f1be50f97bce"
      },
      "execution_count": null,
      "outputs": [
        {
          "output_type": "display_data",
          "data": {
            "image/png": "[encoded data removed]",
            "text/plain": [
              "<Figure size 432x288 with 1 Axes>"
            ]
          },
          "metadata": {
            "needs_background": "light"
          }
        }
      ]
    },
    {
      "cell_type": "code",
      "source": [
        "score = model.evaluate(test_x, test_y, verbose=0)\n",
        "print('Test loss:', score[0])\n",
        "print('Test accuracy:', score[1])"
      ],
      "metadata": {
        "colab": {
          "base_uri": "https://localhost:8080/"
        },
        "id": "iTVHWw4hp35x",
        "outputId": "53e927f9-a38d-4583-ac3d-774c7b2e5821"
      },
      "execution_count": null,
      "outputs": [
        {
          "output_type": "stream",
          "name": "stdout",
          "text": [
            "Test loss: 0.11494625359773636\n",
            "Test accuracy: 0.9683333039283752\n"
          ]
        }
      ]
    },
    {
      "cell_type": "code",
      "source": [
        "y_pred = model.predict(test_x)\n",
        "print(y_pred)"
      ],
      "metadata": {
        "colab": {
          "base_uri": "https://localhost:8080/"
        },
        "id": "w1DTrk2JqIqT",
        "outputId": "dd2949f6-dc2b-4b7e-b3b5-a66ac6942478"
      },
      "execution_count": null,
      "outputs": [
        {
          "output_type": "stream",
          "name": "stdout",
          "text": [
            "[[1.0000000e+00 5.0117028e-20 9.2662036e-26 ... 2.1151401e-18\n",
            "  0.0000000e+00 0.0000000e+00]\n",
            " [1.0000000e+00 9.3007371e-25 3.1199512e-30 ... 5.2515205e-19\n",
            "  0.0000000e+00 0.0000000e+00]\n",
            " [9.9949884e-01 9.3817063e-05 1.1735624e-06 ... 2.1835661e-04\n",
            "  2.4167536e-16 2.3273376e-15]\n",
            " ...\n",
            " [1.7582673e-12 8.2721883e-09 4.2470923e-17 ... 1.0000000e+00\n",
            "  2.1023396e-35 7.2518608e-38]\n",
            " [1.4128881e-05 6.8701161e-10 1.2364601e-19 ... 9.9998581e-01\n",
            "  0.0000000e+00 0.0000000e+00]\n",
            " [4.5752618e-06 4.5973546e-04 2.0594923e-06 ... 9.9953365e-01\n",
            "  2.4382438e-19 1.7995843e-19]]\n"
          ]
        }
      ]
    },
    {
      "cell_type": "code",
      "source": [
        "x=int(input(\"Enter the index of any picture from the test batch to predict ie. enter a number from 1 to 1200:  \"))\n",
        "print(\"\\nPrediction: \\n\",y_pred[x])\n",
        "print(\"\\nActual: \\n\",test_y[x])\n",
        "print(training_set)\n",
        "plt.imshow(test_x[x])"
      ],
      "metadata": {
        "colab": {
          "base_uri": "https://localhost:8080/",
          "height": 475
        },
        "id": "GuP5rRRQqRnv",
        "outputId": "f05b6a30-9f96-4b78-a128-ea86bb6ee44e"
      },
      "execution_count": null,
      "outputs": [
        {
          "output_type": "stream",
          "name": "stdout",
          "text": [
            "Enter the index of any picture from the test batch to predict ie. enter a number from 1 to 1200:  565\n",
            "\n",
            "Prediction: \n",
            " [5.93893725e-34 6.35164190e-14 1.48499878e-27 2.25968972e-15\n",
            " 1.17381935e-23 1.00000000e+00 8.09457369e-23 6.31740646e-20\n",
            " 2.24644472e-23 6.42009899e-20 4.53896681e-22 9.62075137e-25\n",
            " 0.00000000e+00 0.00000000e+00]\n",
            "\n",
            "Actual: \n",
            " [0. 0. 0. 0. 0. 1. 0. 0. 0. 0. 0. 0. 0. 0.]\n",
            "<keras.preprocessing.image.DirectoryIterator object at 0x7f56e1697d10>\n"
          ]
        },
        {
          "output_type": "execute_result",
          "data": {
            "text/plain": [
              "<matplotlib.image.AxesImage at 0x7f56e27aad10>"
            ]
          },
          "metadata": {},
          "execution_count": 131
        },
        {
          "output_type": "display_data",
          "data": {
            "image/png": "[encoded data removed]",
            "text/plain": [
              "<Figure size 432x288 with 1 Axes>"
            ]
          },
          "metadata": {
            "needs_background": "light"
          }
        }
      ]
    }
  ]
}